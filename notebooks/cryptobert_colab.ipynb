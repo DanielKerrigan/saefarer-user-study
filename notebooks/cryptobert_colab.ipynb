{
  "cells": [
    {
      "cell_type": "markdown",
      "metadata": {
        "id": "QEBgsH0zGLup"
      },
      "source": [
        "# SAEfarer - cryptobert\n",
        "\n",
        "This notebook provides a demonstration of SAEfarer with the [cryptobert](https://huggingface.co/ElKulako/cryptobert) model, which classifies cryptocurrency social media posts as Bearish (negative), Neutral, or Bullish (positive).\n"
      ]
    },
    {
      "cell_type": "markdown",
      "metadata": {
        "id": "OSHJHN3LGimz"
      },
      "source": [
        "First, we will install SAEfarer.\n"
      ]
    },
    {
      "cell_type": "code",
      "execution_count": null,
      "metadata": {
        "id": "P3gU3DnFicKh"
      },
      "outputs": [],
      "source": [
        "!pip install saefarer"
      ]
    },
    {
      "cell_type": "markdown",
      "metadata": {
        "id": "sAXoZvmDGldo"
      },
      "source": [
        "I have already trained a sparse autoencoder on this model and calculated the analysis data needed by the widget. Here, we download the SAE and analysis database.\n"
      ]
    },
    {
      "cell_type": "code",
      "execution_count": null,
      "metadata": {
        "id": "LrzVDru4b0rn"
      },
      "outputs": [],
      "source": [
        "!curl -o sae.pt https://pub-d9a3d46ad9e747de82d25cd1f4610ee9.r2.dev/cryptobert/x4-k4/sae.pt"
      ]
    },
    {
      "cell_type": "code",
      "execution_count": null,
      "metadata": {
        "id": "oR9lx3Pbb50I"
      },
      "outputs": [],
      "source": [
        "!curl -o analysis.db https://pub-d9a3d46ad9e747de82d25cd1f4610ee9.r2.dev/cryptobert/x4-k4/analysis.db"
      ]
    },
    {
      "cell_type": "markdown",
      "metadata": {
        "id": "jKASx9FAG8xo"
      },
      "source": [
        "Next, we can import SAEfarer and the necessary code from [transformers](https://huggingface.co/docs/transformers/en/index) to load the model and tokenizer.\n"
      ]
    },
    {
      "cell_type": "code",
      "execution_count": null,
      "metadata": {
        "id": "8Fu125yLpNpA"
      },
      "outputs": [],
      "source": [
        "from saefarer.sae import SAE\n",
        "from saefarer.adapters.tokenizers import HuggingFaceRobertaTokenizerAdapter\n",
        "from saefarer.utils import get_default_device\n",
        "from saefarer.widget import Widget, WidgetConfig\n",
        "from transformers import (\n",
        "    AutoModelForSequenceClassification,\n",
        "    AutoTokenizer,\n",
        "    RobertaTokenizerFast,\n",
        ")"
      ]
    },
    {
      "cell_type": "markdown",
      "metadata": {
        "id": "Sm9FWTi8HVq9"
      },
      "source": [
        "Next, we can download the model and tokenizer from Hugging Face and load the SAE.\n"
      ]
    },
    {
      "cell_type": "code",
      "execution_count": null,
      "metadata": {
        "id": "KSSejc2bFGnY"
      },
      "outputs": [],
      "source": [
        "model_name = \"ElKulako/cryptobert\"\n",
        "model = AutoModelForSequenceClassification.from_pretrained(model_name)"
      ]
    },
    {
      "cell_type": "code",
      "execution_count": null,
      "metadata": {
        "id": "J55kdrXmFa1H"
      },
      "outputs": [],
      "source": [
        "tokenizer: RobertaTokenizerFast = AutoTokenizer.from_pretrained(\n",
        "    model_name, use_fast=True\n",
        ")  # type: ignore\n",
        "\n",
        "sf_tokenizer = HuggingFaceRobertaTokenizerAdapter(tokenizer=tokenizer)"
      ]
    },
    {
      "cell_type": "code",
      "execution_count": null,
      "metadata": {
        "id": "ZTBpWSZNFqcc"
      },
      "outputs": [],
      "source": [
        "device = get_default_device()\n",
        "sae = SAE.load(\"sae.pt\", device=device)"
      ]
    },
    {
      "cell_type": "markdown",
      "metadata": {
        "id": "943-LGPSH3Gb"
      },
      "source": [
        "Now we are ready to configure and run the widget.\n"
      ]
    },
    {
      "cell_type": "code",
      "execution_count": null,
      "metadata": {
        "id": "WG4vyAxFFk_c"
      },
      "outputs": [],
      "source": [
        "cfg = WidgetConfig(\n",
        "    height=755,\n",
        "    base_font_size=16,\n",
        "    n_table_rows=10,\n",
        "    device=device,\n",
        ")"
      ]
    },
    {
      "cell_type": "code",
      "execution_count": null,
      "metadata": {
        "id": "zgSJZ6WcFr3x"
      },
      "outputs": [],
      "source": [
        "w = Widget(path=\"analysis.db\", cfg=cfg, model=model, tokenizer=sf_tokenizer, sae=sae)\n",
        "\n",
        "w"
      ]
    },
    {
      "cell_type": "code",
      "execution_count": null,
      "metadata": {
        "id": "PUtTeJChF1Pz"
      },
      "outputs": [],
      "source": []
    }
  ],
  "metadata": {
    "colab": {
      "provenance": []
    },
    "kernelspec": {
      "display_name": "Python 3",
      "name": "python3"
    },
    "language_info": {
      "name": "python"
    }
  },
  "nbformat": 4,
  "nbformat_minor": 0
}
